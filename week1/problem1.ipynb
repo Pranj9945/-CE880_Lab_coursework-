{
  "cells": [
    {
      "cell_type": "markdown",
      "metadata": {
        "id": "view-in-github",
        "colab_type": "text"
      },
      "source": [
        "<a href=\"https://colab.research.google.com/github/Pranj9945/-CE880_Lab_coursework-/blob/main/week1/problem1.ipynb\" target=\"_parent\"><img src=\"https://colab.research.google.com/assets/colab-badge.svg\" alt=\"Open In Colab\"/></a>"
      ]
    },
    {
      "cell_type": "markdown",
      "metadata": {
        "id": "-w0Ftak90sLV"
      },
      "source": [
        "Before you turn this problem in, make sure everything runs as expected. First, **restart the kernel** (in the menubar, select Kernel$\\rightarrow$Restart) and then **run all cells** (in the menubar, select Cell$\\rightarrow$Run All).\n",
        "\n",
        "Make sure you fill in any place that says `YOUR CODE HERE` or \"YOUR ANSWER HERE\", as well as your name and collaborators below:"
      ]
    },
    {
      "cell_type": "code",
      "execution_count": null,
      "metadata": {
        "id": "v56FeSwB0sLX"
      },
      "outputs": [],
      "source": [
        "NAME = \"\"\n",
        "COLLABORATORS = \"\""
      ]
    },
    {
      "cell_type": "markdown",
      "metadata": {
        "id": "yldBBmPk0sLY"
      },
      "source": [
        "---"
      ]
    },
    {
      "cell_type": "markdown",
      "metadata": {
        "id": "EENemige0sLZ"
      },
      "source": [
        "---\n",
        "# Welcome to CE880\n",
        "### This is your week-1 : Problem 1 notebook\n",
        "\n",
        "For this problem set, we'll be using the Jupyter notebook and please upload this notebook to [Google Colab](https://colab.research.google.com/).\n"
      ]
    },
    {
      "cell_type": "markdown",
      "metadata": {
        "id": "KZio5lMk0sLZ"
      },
      "source": [
        "---\n",
        "## Question 1:\n",
        "\n",
        "Write a Python function to calculate simple interest. The formula for calculating simple interest is:\n",
        "\n",
        "`Simple Interest (SI) = (Principal * Rate * Time) / 100`\n",
        "\n",
        "#### Parameters:\n",
        "* principal (float): The principal amount (initial amount of money).\n",
        "* rate (float): The rate of interest per time period.\n",
        "* time (float): The time for which the money is borrowed or invested.\n",
        "\n"
      ]
    },
    {
      "cell_type": "code",
      "execution_count": 2,
      "metadata": {
        "deletable": false,
        "nbgrader": {
          "cell_type": "code",
          "checksum": "87a59112e1535d2b0c417316e90ca4b3",
          "grade": false,
          "grade_id": "myPythagorean_ans",
          "locked": false,
          "schema_version": 3,
          "solution": true
        },
        "id": "14NUTMB_0sLZ"
      },
      "outputs": [],
      "source": [
        "import math\n",
        "def calculate_simple_interest(principal, rate, time):\n",
        "    \"\"\"Create a function that takes three parameters (principal, rate, time)\n",
        "    and returns the calculated simple interest.\"\"\"\n",
        "    # YOUR CODE HERE\n",
        "    simple_interest = (principal * rate * time) / 100\n",
        "    return simple_interest\n",
        "    raise NotImplementedError()"
      ]
    },
    {
      "cell_type": "code",
      "execution_count": 3,
      "metadata": {
        "colab": {
          "base_uri": "https://localhost:8080/"
        },
        "id": "3WUWJcML0sLa",
        "outputId": "512667eb-ac9a-45ad-b321-adace78b2ec9"
      },
      "outputs": [
        {
          "output_type": "execute_result",
          "data": {
            "text/plain": [
              "150.0"
            ]
          },
          "metadata": {},
          "execution_count": 3
        }
      ],
      "source": [
        "calculate_simple_interest(1000, 5, 3)"
      ]
    },
    {
      "cell_type": "code",
      "execution_count": 4,
      "metadata": {
        "deletable": false,
        "editable": false,
        "nbgrader": {
          "cell_type": "code",
          "checksum": "aedb65e81e27514ad6834c0546eef7f8",
          "grade": true,
          "grade_id": "myPythagorean_test",
          "locked": false,
          "points": 1,
          "schema_version": 3,
          "solution": false
        },
        "id": "QaovEMMi0sLa"
      },
      "outputs": [],
      "source": [
        "\"\"\"Check that squares returns the correct output for several inputs\"\"\"\n",
        "assert calculate_simple_interest(1000, 2.22, 3) == 66.6\n",
        "assert calculate_simple_interest(5000, 0, 3) == 0\n",
        "assert calculate_simple_interest(5000, 5, 3) == 750"
      ]
    },
    {
      "cell_type": "markdown",
      "metadata": {
        "id": "TYVBCs5i0sLa"
      },
      "source": [
        "---\n",
        "\n",
        "## Question 2:\n",
        "\n",
        "Write a Python function to calculate the volume of a cylinder. The formula for calculating the volume of a cylinder is:\n",
        "\n",
        "`Volume = π * radius^2 * height`\n",
        "\n",
        "Hint: For simplicity, you can use the value of π as 3.14159.\n",
        "\n",
        "\n",
        "#### Parameters:\n",
        "* radius (float): The radius of the cylinder's base.\n",
        "* height (float): The height of the cylinder."
      ]
    },
    {
      "cell_type": "code",
      "execution_count": 5,
      "metadata": {
        "deletable": false,
        "nbgrader": {
          "cell_type": "code",
          "checksum": "6885c60c01db70341c220ceae4bd1414",
          "grade": false,
          "grade_id": "areaofTrap_ans",
          "locked": false,
          "schema_version": 3,
          "solution": true
        },
        "id": "Ls6aEftt0sLb"
      },
      "outputs": [],
      "source": [
        "def calculate_cylinder_volume(radius, height):\n",
        "    \"\"\"Write a Python function to calculate the volume of a cylinder.\"\"\"\n",
        "    # YOUR CODE HERE\n",
        "    pi = 3.14159\n",
        "    volume = pi * (radius ** 2) * height\n",
        "    return volume\n",
        "    raise NotImplementedError()"
      ]
    },
    {
      "cell_type": "code",
      "execution_count": 6,
      "metadata": {
        "colab": {
          "base_uri": "https://localhost:8080/"
        },
        "id": "0FH6uwHk0sLb",
        "outputId": "86d7799c-0fcf-44db-a148-9c1ddf0dbcc5"
      },
      "outputs": [
        {
          "output_type": "execute_result",
          "data": {
            "text/plain": [
              "1256.636"
            ]
          },
          "metadata": {},
          "execution_count": 6
        }
      ],
      "source": [
        "calculate_cylinder_volume(10, 4)"
      ]
    },
    {
      "cell_type": "code",
      "execution_count": 7,
      "metadata": {
        "deletable": false,
        "editable": false,
        "nbgrader": {
          "cell_type": "code",
          "checksum": "f5e989aa1b4c584947cd9dcac44efcc0",
          "grade": true,
          "grade_id": "areaofTrap_test",
          "locked": false,
          "points": 1,
          "schema_version": 3,
          "solution": false
        },
        "id": "JK5NxO9N0sLb"
      },
      "outputs": [],
      "source": [
        "\"\"\"Checkthe correct answer for various inputs.\"\"\"\n",
        "assert calculate_cylinder_volume(5, 10) == 785.3975\n",
        "assert calculate_cylinder_volume(15, 8) == 5654.862\n",
        "assert calculate_cylinder_volume(20, 3) == 3769.908"
      ]
    },
    {
      "cell_type": "markdown",
      "metadata": {
        "id": "6FZa5ynx0sLc"
      },
      "source": [
        "---\n",
        "## Question 3:\n",
        "\n",
        " Write a Python program to reverse a string. Example: Sample String: `1234xyz` Expected Output: `zyx4321`"
      ]
    },
    {
      "cell_type": "code",
      "execution_count": 15,
      "metadata": {
        "deletable": false,
        "nbgrader": {
          "cell_type": "code",
          "checksum": "98cb7a38e7c264c61d0ff0332d879772",
          "grade": false,
          "grade_id": "reversestring_ans",
          "locked": false,
          "schema_version": 3,
          "solution": true,
          "task": false
        },
        "id": "6cbGt3H20sLc"
      },
      "outputs": [],
      "source": [
        "def reverse_string(input_str):\n",
        "    \"\"\"Write your code here to reverse the string\"\"\"\n",
        "\n",
        "    # YOUR CODE HERE\n",
        "    reversed_str = ''\n",
        "    for i in range(len(input_str)-1, -1, -1):\n",
        "      reversed_str += input_str[i]\n",
        "    return reversed_str\n",
        "    raise NotImplementedError()"
      ]
    },
    {
      "cell_type": "code",
      "execution_count": 16,
      "metadata": {
        "colab": {
          "base_uri": "https://localhost:8080/",
          "height": 35
        },
        "id": "15VIs6DB0sLc",
        "outputId": "421702da-3f80-4cbb-9adb-40d4c5a698ae"
      },
      "outputs": [
        {
          "output_type": "execute_result",
          "data": {
            "text/plain": [
              "'TPGtahC'"
            ],
            "application/vnd.google.colaboratory.intrinsic+json": {
              "type": "string"
            }
          },
          "metadata": {},
          "execution_count": 16
        }
      ],
      "source": [
        "reverse_string('ChatGPT')"
      ]
    },
    {
      "cell_type": "code",
      "execution_count": 17,
      "metadata": {
        "deletable": false,
        "editable": false,
        "nbgrader": {
          "cell_type": "code",
          "checksum": "13cc3e56b0754d7b6c57e0c91a267c8c",
          "grade": true,
          "grade_id": "reversestring_test",
          "locked": true,
          "points": 1,
          "schema_version": 3,
          "solution": false,
          "task": false
        },
        "id": "Dgxs895h0sLc"
      },
      "outputs": [],
      "source": [
        "\"\"\"Check that areaofTrap returns the correct answer for various inputs.\"\"\"\n",
        "assert reverse_string('Humanitarian') == 'nairatinamuH'\n",
        "assert reverse_string('ChatGPT') == 'TPGtahC'\n",
        "assert reverse_string('Data Science') == 'ecneicS ataD'\n",
        "assert reverse_string('CE880') == '088EC'"
      ]
    },
    {
      "cell_type": "markdown",
      "metadata": {
        "id": "cVoksUxW0sLd"
      },
      "source": [
        "## Question 4:\n",
        "Write a Python program to print the odd numbers from a given list and in ascending order.\n",
        "\n",
        "Sample List : `[1, 2, 3, 4, 5, 6, 7, 8, 9]` Expected Result : `[1, 3, 5, 7, 9]`"
      ]
    },
    {
      "cell_type": "code",
      "execution_count": 22,
      "metadata": {
        "deletable": false,
        "nbgrader": {
          "cell_type": "code",
          "checksum": "fe429958636b60d9eb8395e0a710f02f",
          "grade": false,
          "grade_id": "even_num_ans",
          "locked": false,
          "schema_version": 3,
          "solution": true,
          "task": false
        },
        "id": "fNwMWfUN0sLd"
      },
      "outputs": [],
      "source": [
        "import numpy as np\n",
        "def odd_num(lst):\n",
        "    # Filter the odd numbers\n",
        "    odd_numbers = [num for num in lst if num % 2 != 0]\n",
        "\n",
        "    # Sort the odd numbers in ascending order\n",
        "    odd_numbers.sort()\n",
        "\n",
        "    # Print the sorted odd numbers\n",
        "    return odd_numbers\n",
        "\n",
        "    # Call the function with the sample list\n",
        "    print_odd_numbers(sample_list)\n",
        "\n",
        "    # Call the function with the sample list\n",
        "    print_odd_num(sample_list)\n",
        "    raise NotImplementedError()"
      ]
    },
    {
      "cell_type": "code",
      "execution_count": 23,
      "metadata": {
        "colab": {
          "base_uri": "https://localhost:8080/"
        },
        "id": "QZ3QcaDo0sLd",
        "outputId": "9b2cde05-676f-47a4-ff9a-816dada4acc5"
      },
      "outputs": [
        {
          "output_type": "execute_result",
          "data": {
            "text/plain": [
              "[3, 11, 17, 19]"
            ]
          },
          "metadata": {},
          "execution_count": 23
        }
      ],
      "source": [
        "odd_num([2, 3, 14, 17, 8, 19, 11, 14])"
      ]
    },
    {
      "cell_type": "code",
      "execution_count": 24,
      "metadata": {
        "deletable": false,
        "editable": false,
        "nbgrader": {
          "cell_type": "code",
          "checksum": "67fe5215c4ef4d5ef23374a0ac689eb8",
          "grade": true,
          "grade_id": "odd_num_test",
          "locked": true,
          "points": 1,
          "schema_version": 3,
          "solution": false,
          "task": false
        },
        "id": "EQwGuCYT0sLd"
      },
      "outputs": [],
      "source": [
        "\"\"\"Check that odd_num returns the correct answer for various inputs.\"\"\"\n",
        "assert odd_num([1, 2, 3, 4, 6, 7, 8, 9]) == [1, 3, 7, 9]\n",
        "assert odd_num([2, 3, 4, 7, 8, 9, 11, 14]) == [3, 7, 9, 11]\n",
        "assert odd_num([2, 3, 14, 17, 8, 19, 11, 14]) == [3, 11, 17, 19]"
      ]
    },
    {
      "cell_type": "markdown",
      "metadata": {
        "id": "wbdxYy480sLd"
      },
      "source": [
        "## Question 5:\n",
        "Write a Python function to create and print a list where the values are cube of numbers between `1` and `n`, where `n` is user defined number: Example `cube_values(4) == [1, 8, 27, 64]`"
      ]
    },
    {
      "cell_type": "code",
      "execution_count": 44,
      "metadata": {
        "deletable": false,
        "nbgrader": {
          "cell_type": "code",
          "checksum": "7cb495f5a8b8fe53614cbf5ddcaacf90",
          "grade": false,
          "grade_id": "sqr_values_ans",
          "locked": false,
          "schema_version": 3,
          "solution": true,
          "task": false
        },
        "id": "SNXaP0Mb0sLe"
      },
      "outputs": [],
      "source": [
        "def cube_values(n):\n",
        "    \"\"\"Write a Python program to print the cube of numbers between 1 and `n`\"\"\"\n",
        "\n",
        "    # YOUR CODE HERE\n",
        "def cube_values(n):\n",
        "    \"\"\"Create and print a list where the values are cubes of numbers between 1 and n.\"\"\"\n",
        "    cube_list = [i ** 3 for i in range(1, n + 1)]\n",
        "    return cube_list"
      ]
    },
    {
      "cell_type": "code",
      "execution_count": 45,
      "metadata": {
        "colab": {
          "base_uri": "https://localhost:8080/"
        },
        "id": "wu3IKRxq0sLe",
        "outputId": "1a2aefb1-86d5-43fc-9a6a-7be53ab14799"
      },
      "outputs": [
        {
          "output_type": "execute_result",
          "data": {
            "text/plain": [
              "[1, 8, 27, 64, 125, 216, 343, 512, 729]"
            ]
          },
          "metadata": {},
          "execution_count": 45
        }
      ],
      "source": [
        "cube_values(9)"
      ]
    },
    {
      "cell_type": "code",
      "execution_count": 46,
      "metadata": {
        "deletable": false,
        "editable": false,
        "nbgrader": {
          "cell_type": "code",
          "checksum": "3b2fc7a12df60f66f039d427cc797b1b",
          "grade": true,
          "grade_id": "sqr_values_test",
          "locked": true,
          "points": 1,
          "schema_version": 3,
          "solution": false,
          "task": false
        },
        "id": "VIwG2mJ30sLe"
      },
      "outputs": [],
      "source": [
        "\"\"\"Check that cube_values returns the correct answer for various inputs.\"\"\"\n",
        "assert cube_values(4) == [1, 8, 27, 64]\n",
        "assert cube_values(8) == [1, 8, 27, 64, 125, 216, 343, 512]\n",
        "assert cube_values(9) == [1, 8, 27, 64, 125, 216, 343, 512, 729]"
      ]
    },
    {
      "cell_type": "markdown",
      "metadata": {
        "id": "m1UpJuoL0sLe"
      },
      "source": [
        "## Question 6:\n",
        "\n",
        "Create a function that takes a string and counts the total number of capital letters in that string.\n",
        "\n"
      ]
    },
    {
      "cell_type": "code",
      "execution_count": 56,
      "metadata": {
        "deletable": false,
        "nbgrader": {
          "cell_type": "code",
          "checksum": "33d39887c0340fd72d1252b89745ca8d",
          "grade": false,
          "grade_id": "comb_ans",
          "locked": false,
          "schema_version": 3,
          "solution": true,
          "task": false
        },
        "colab": {
          "base_uri": "https://localhost:8080/"
        },
        "id": "n8gQW-Re0sLe",
        "outputId": "1db7016b-e364-46e4-a129-f2cb23b0f170"
      },
      "outputs": [
        {
          "output_type": "stream",
          "name": "stdout",
          "text": [
            "2\n"
          ]
        }
      ],
      "source": [
        "def count_capital_letters(input_string):\n",
        "    \"\"\"Write a Python function to count the number of capital letters in a given string.\"\"\"\n",
        "    # YOUR CODE HERE\n",
        "def count_capital_letters(input_string):\n",
        "    \"\"\"Count the number of capital letters in a given string.\"\"\"\n",
        "    return sum(1 for c in input_string if c.isupper())\n",
        "\n",
        "# Test the function\n",
        "print(count_capital_letters(\"Hello World!\"))\n",
        "\n",
        ""
      ]
    },
    {
      "cell_type": "code",
      "execution_count": 57,
      "metadata": {
        "colab": {
          "base_uri": "https://localhost:8080/"
        },
        "id": "en9UwqSZ0sLe",
        "outputId": "bd9cd6aa-a032-477f-cc4a-1af3eba67245"
      },
      "outputs": [
        {
          "output_type": "execute_result",
          "data": {
            "text/plain": [
              "2"
            ]
          },
          "metadata": {},
          "execution_count": 57
        }
      ],
      "source": [
        "count_capital_letters('CE880!')"
      ]
    },
    {
      "cell_type": "code",
      "execution_count": 58,
      "metadata": {
        "deletable": false,
        "editable": false,
        "nbgrader": {
          "cell_type": "code",
          "checksum": "71c0a59e2ca4afc41553efb1cc070d3a",
          "grade": true,
          "grade_id": "comb_test",
          "locked": true,
          "points": 1,
          "schema_version": 3,
          "solution": false,
          "task": false
        },
        "id": "u1Ix3fgg0sLf"
      },
      "outputs": [],
      "source": [
        "assert count_capital_letters('Essex University') == 2\n",
        "assert count_capital_letters('Camulodunum the Ancient Roman') == 3\n",
        "assert count_capital_letters('cHgYjHkYhUgYj12') == 6"
      ]
    },
    {
      "cell_type": "code",
      "source": [],
      "metadata": {
        "id": "Rxk_SxtsaTqN"
      },
      "execution_count": null,
      "outputs": []
    }
  ],
  "metadata": {
    "kernelspec": {
      "display_name": "Python 3",
      "language": "python",
      "name": "python3"
    },
    "language_info": {
      "codemirror_mode": {
        "name": "ipython",
        "version": 3
      },
      "file_extension": ".py",
      "mimetype": "text/x-python",
      "name": "python",
      "nbconvert_exporter": "python",
      "pygments_lexer": "ipython3",
      "version": "3.7.11"
    },
    "colab": {
      "provenance": [],
      "include_colab_link": true
    }
  },
  "nbformat": 4,
  "nbformat_minor": 0
}