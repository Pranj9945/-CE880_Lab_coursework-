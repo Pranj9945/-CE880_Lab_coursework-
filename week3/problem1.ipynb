{
  "cells": [
    {
      "cell_type": "markdown",
      "metadata": {
        "id": "view-in-github",
        "colab_type": "text"
      },
      "source": [
        "<a href=\"https://colab.research.google.com/github/Pranj9945/CE880_Lab_coursework-/blob/main/week3/problem1.ipynb\" target=\"_parent\"><img src=\"https://colab.research.google.com/assets/colab-badge.svg\" alt=\"Open In Colab\"/></a>"
      ]
    },
    {
      "cell_type": "markdown",
      "metadata": {
        "id": "tVMZxcRsUcOf"
      },
      "source": [
        "Before you turn this problem in, make sure everything runs as expected. First, **restart the kernel** (in the menubar, select Kernel$\\rightarrow$Restart) and then **run all cells** (in the menubar, select Cell$\\rightarrow$Run All).\n",
        "\n",
        "Make sure you fill in any place that says `YOUR CODE HERE` or \"YOUR ANSWER HERE\", as well as your name and collaborators below:"
      ]
    },
    {
      "cell_type": "code",
      "execution_count": 1,
      "metadata": {
        "id": "f2wDMmUhUcOg"
      },
      "outputs": [],
      "source": [
        "NAME = \"Pranjal Sunil Patil\"\n",
        "COLLABORATORS = \"2321437\""
      ]
    },
    {
      "cell_type": "markdown",
      "metadata": {
        "id": "0ts13AqfUcOg"
      },
      "source": [
        "---"
      ]
    },
    {
      "cell_type": "markdown",
      "metadata": {
        "id": "6HvDfGDuE5mN"
      },
      "source": [
        "---\n",
        "# Welcome to CE880\n",
        "### This is your week-3 : Problem 1 notebook\n",
        "\n",
        "For this problem set, we'll be using the Jupyter notebook and please upload this notebook to [Google Colab](https://colab.research.google.com/).\n"
      ]
    },
    {
      "cell_type": "markdown",
      "metadata": {
        "id": "ZlWkgitfE5mO"
      },
      "source": [
        "---\n",
        "## Question 1:\n",
        "\n",
        "Write a Python function to find the mode(s) in a `list` of integers. The mode is the number that appears most frequently. However, the challenge here is that the list may contain multiple `modes`, and your task is to efficiently find and return all modes.\n"
      ]
    },
    {
      "cell_type": "code",
      "execution_count": 2,
      "metadata": {
        "deletable": false,
        "id": "7FBRZiZUE5mP",
        "nbgrader": {
          "cell_type": "code",
          "checksum": "3f81a01e80e71f34ddf347595c852fa0",
          "grade": false,
          "grade_id": "my_mode",
          "locked": false,
          "schema_version": 3,
          "solution": true
        }
      },
      "outputs": [],
      "source": [
        "from collections import Counter\n",
        "def find_modes(lst):\n",
        "    \"\"\"Python function to find the mode(s) in a list of integers.\"\"\"\n",
        "    # YOUR CODE HERE\n",
        "    counts = Counter(lst)\n",
        "    max_freq = max(counts.values())\n",
        "    modes=[num for num, freq in counts.items() if freq == max_freq]\n",
        "    return modes\n",
        "    raise NotImplementedError()"
      ]
    },
    {
      "cell_type": "code",
      "execution_count": 3,
      "metadata": {
        "colab": {
          "base_uri": "https://localhost:8080/"
        },
        "id": "tuJXqPfcUcOh",
        "outputId": "e0254caf-0184-41f7-bd41-d5b53e497159"
      },
      "outputs": [
        {
          "output_type": "execute_result",
          "data": {
            "text/plain": [
              "[3]"
            ]
          },
          "metadata": {},
          "execution_count": 3
        }
      ],
      "source": [
        "numbers = [3, 5, 3, 3, 1, 5, 2]\n",
        "find_modes(numbers)"
      ]
    },
    {
      "cell_type": "code",
      "execution_count": 4,
      "metadata": {
        "deletable": false,
        "editable": false,
        "id": "ootdMSn7E5mP",
        "nbgrader": {
          "cell_type": "code",
          "checksum": "e71cba6d8f225cd444f54ebd68fcd47d",
          "grade": true,
          "grade_id": "my_mode_test",
          "locked": false,
          "points": 2,
          "schema_version": 3,
          "solution": false
        }
      },
      "outputs": [],
      "source": [
        "\"\"\"Check your output\"\"\"\n",
        "numbers = [2, 3, 5, 2, 8, 7, 2, 5, 4, 6, 5, 2]\n",
        "assert find_modes(numbers) == [2]\n",
        "\n",
        "numbers = [2, 3, 5, 2, 3, 3, 2, 3, 4, 6, 5, 2]\n",
        "assert find_modes(numbers) == [2, 3]"
      ]
    },
    {
      "cell_type": "markdown",
      "metadata": {
        "id": "SaECaolwE5mQ"
      },
      "source": [
        "---\n",
        "\n",
        "## Question 2:\n",
        "\n",
        "Write a Python function to calculate the `Interquartile Range (IQR)` for a given list of numerical values. However, the challenge here is to implement the calculation without using built-in functions related to quartiles, such as `numpy.percentile()` or `scipy.stats.iqr()`."
      ]
    },
    {
      "cell_type": "code",
      "execution_count": 5,
      "metadata": {
        "deletable": false,
        "id": "b9pap4PtE5mQ",
        "nbgrader": {
          "cell_type": "code",
          "checksum": "28b96b5ee4f7f222ff763cd272f3040c",
          "grade": false,
          "grade_id": "my_quartile_ans",
          "locked": false,
          "schema_version": 3,
          "solution": true
        }
      },
      "outputs": [],
      "source": [
        "import numpy as np\n",
        "def calculate_iqr(data):\n",
        "    \"\"\"Write a Python function to calculate the `Interquartile Range (IQR)`\"\"\"\n",
        "    # YOUR CODE HERE\n",
        "\n",
        "\n",
        "    data.sort()\n",
        "\n",
        "\n",
        "    n = len(data)\n",
        "\n",
        "\n",
        "    if n % 2 == 0:\n",
        "      median = (data[(n - 1) // 2] + data[n // 2]) / 2\n",
        "      first_half = data[:n // 2]\n",
        "      second_half = data[n // 2:]\n",
        "\n",
        "\n",
        "    else:\n",
        "      median = data[n // 2]\n",
        "      first_half = data[:n // 2]\n",
        "      second_half = data[n // 2 + 1 :]\n",
        "\n",
        "\n",
        "    q1 = (first_half[(len(first_half) - 1) // 2] + first_half[len(first_half) // 2]) / 2\n",
        "    q3 = (second_half[(len(second_half) - 1) // 2] + second_half[len(second_half) // 2]) / 2\n",
        "\n",
        "\n",
        "    iqr = q3 - q1\n",
        "\n",
        "\n",
        "    print(\"Interquartile Range: \", iqr)\n",
        "\n",
        "    return iqr\n",
        "\n",
        "\n",
        "    result = calculate_iqr(list)\n",
        "\n",
        "\n",
        "\n",
        "    raise NotImplementedError()"
      ]
    },
    {
      "cell_type": "code",
      "execution_count": 6,
      "metadata": {
        "colab": {
          "base_uri": "https://localhost:8080/"
        },
        "id": "z09z5LJUUcOh",
        "outputId": "0589a1e0-9b1a-4094-dfa8-77c779f4b820"
      },
      "outputs": [
        {
          "output_type": "stream",
          "name": "stdout",
          "text": [
            "Interquartile Range:  5.0\n"
          ]
        },
        {
          "output_type": "execute_result",
          "data": {
            "text/plain": [
              "5.0"
            ]
          },
          "metadata": {},
          "execution_count": 6
        }
      ],
      "source": [
        "data = [12, 15, 20, 25, 30, 15, 10, 15, 16, 15]\n",
        "calculate_iqr(data)"
      ]
    },
    {
      "cell_type": "code",
      "execution_count": 7,
      "metadata": {
        "deletable": false,
        "editable": false,
        "id": "f2xlQ2igE5mR",
        "nbgrader": {
          "cell_type": "code",
          "checksum": "c6837ef6c3fb9765efb8a95e59ab7307",
          "grade": true,
          "grade_id": "my_quartile_test",
          "locked": false,
          "points": 1,
          "schema_version": 3,
          "solution": false
        },
        "colab": {
          "base_uri": "https://localhost:8080/"
        },
        "outputId": "c26f967e-c0d2-41c3-c770-8f382a585ac8"
      },
      "outputs": [
        {
          "output_type": "stream",
          "name": "stdout",
          "text": [
            "Interquartile Range:  25.0\n",
            "Interquartile Range:  15.0\n"
          ]
        }
      ],
      "source": [
        "\"\"\"Check that correct answers here\"\"\"\n",
        "data = [12, 15, 20, 25, 30, 35, 40, 45, 50, 55]\n",
        "assert calculate_iqr(data) == 25.0\n",
        "\n",
        "data = [42, 55, 40, 35, 50, 45, 30, 45, 30, 55]\n",
        "assert  calculate_iqr(data) == 15.0"
      ]
    },
    {
      "cell_type": "markdown",
      "metadata": {
        "id": "3viaglBtE5mR"
      },
      "source": [
        "---\n",
        "## Question 3:\n",
        "\n",
        "Create a function that, given a data frame `df`, returns the name feature with the highest standard deviation across all species. For instance, if the function is called `feature_with_highest_std(data):`,\" it should return `pl` as the feature with the highest standard deviation, where `pl` stands for `petal length (cm)`."
      ]
    },
    {
      "cell_type": "code",
      "execution_count": 8,
      "metadata": {
        "deletable": false,
        "nbgrader": {
          "cell_type": "code",
          "checksum": "6c0af82a6b56f319e1765e6ba0dbf31e",
          "grade": false,
          "grade_id": "ans_high_std",
          "locked": false,
          "schema_version": 3,
          "solution": true,
          "task": false
        },
        "id": "1rYKYs0MUcOh"
      },
      "outputs": [],
      "source": [
        "import math\n",
        "\n",
        "from sklearn.datasets import load_iris\n",
        "\n",
        "import pandas as pd\n",
        "\n",
        "import numpy as np\n",
        "\n",
        "\n",
        "\n",
        "data = load_iris()\n",
        "\n",
        "df = pd.DataFrame(data=data.data, columns=data.feature_names)\n",
        "\n",
        "df = df.rename(columns={\"sepal length (cm)\": \"sl\", \"sepal width (cm)\": \"sw\",\n",
        "\n",
        "                        \"petal length (cm)\":\"pl\", \"petal width (cm)\": \"pw\" })\n",
        "\n",
        "df.head()\n",
        "\n",
        "\n",
        "\n",
        "def feature_with_highest_std(data):\n",
        "\n",
        "    # YOUR CODE HERE\n",
        "\n",
        "    std_deviations = data.std()\n",
        "\n",
        "    highest_std_feature = std_deviations.idxmax()\n",
        "\n",
        "\n",
        "\n",
        "    return highest_std_feature\n",
        "\n",
        "    print(\"Highest Standardd Dviation\")\n",
        "\n",
        "    raise NotImplementedError()"
      ]
    },
    {
      "cell_type": "code",
      "execution_count": 9,
      "metadata": {
        "deletable": false,
        "editable": false,
        "id": "6AuPQgQfE5mS",
        "nbgrader": {
          "cell_type": "code",
          "checksum": "1640f6e29dee77990076c2e29bdb162f",
          "grade": true,
          "grade_id": "my_std_test",
          "locked": true,
          "points": 2,
          "schema_version": 3,
          "solution": false,
          "task": false
        }
      },
      "outputs": [],
      "source": [
        "\"\"\"Test you solution\"\"\"\n",
        "assert feature_with_highest_std(df) == 'pl'"
      ]
    },
    {
      "cell_type": "code",
      "source": [],
      "metadata": {
        "id": "olK_-K_zwlgw"
      },
      "execution_count": 9,
      "outputs": []
    }
  ],
  "metadata": {
    "colab": {
      "provenance": [],
      "toc_visible": true,
      "include_colab_link": true
    },
    "kernelspec": {
      "display_name": "Python 3",
      "language": "python",
      "name": "python3"
    },
    "language_info": {
      "codemirror_mode": {
        "name": "ipython",
        "version": 3
      },
      "file_extension": ".py",
      "mimetype": "text/x-python",
      "name": "python",
      "nbconvert_exporter": "python",
      "pygments_lexer": "ipython3",
      "version": "3.7.10"
    }
  },
  "nbformat": 4,
  "nbformat_minor": 0
}